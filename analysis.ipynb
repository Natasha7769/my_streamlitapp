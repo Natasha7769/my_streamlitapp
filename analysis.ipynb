{
 "cells": [
  {
   "cell_type": "code",
   "execution_count": 1,
   "metadata": {},
   "outputs": [],
   "source": [
    "import pandas as pd\n",
    "import numpy as np\n",
    "import plotly.express as px\n",
    "import matplotlib.pyplot as plt\n",
    "import seaborn as sns"
   ]
  },
  {
   "cell_type": "code",
   "execution_count": 2,
   "metadata": {},
   "outputs": [
    {
     "data": {
      "text/html": [
       "<div>\n",
       "<style scoped>\n",
       "    .dataframe tbody tr th:only-of-type {\n",
       "        vertical-align: middle;\n",
       "    }\n",
       "\n",
       "    .dataframe tbody tr th {\n",
       "        vertical-align: top;\n",
       "    }\n",
       "\n",
       "    .dataframe thead th {\n",
       "        text-align: right;\n",
       "    }\n",
       "</style>\n",
       "<table border=\"1\" class=\"dataframe\">\n",
       "  <thead>\n",
       "    <tr style=\"text-align: right;\">\n",
       "      <th></th>\n",
       "      <th>id</th>\n",
       "      <th>title</th>\n",
       "      <th>overview</th>\n",
       "      <th>popularity</th>\n",
       "      <th>release_date</th>\n",
       "      <th>vote_average</th>\n",
       "      <th>vote_count</th>\n",
       "    </tr>\n",
       "  </thead>\n",
       "  <tbody>\n",
       "    <tr>\n",
       "      <th>0</th>\n",
       "      <td>168705</td>\n",
       "      <td>BloodRayne</td>\n",
       "      <td>In 18th-century Romania, after spending much o...</td>\n",
       "      <td>17.499</td>\n",
       "      <td>2005-10-22</td>\n",
       "      <td>4.105</td>\n",
       "      <td>501</td>\n",
       "    </tr>\n",
       "    <tr>\n",
       "      <th>1</th>\n",
       "      <td>19766</td>\n",
       "      <td>Inspector Gadget 2</td>\n",
       "      <td>After capturing Claw, all the criminals have g...</td>\n",
       "      <td>20.772</td>\n",
       "      <td>2003-03-11</td>\n",
       "      <td>4.100</td>\n",
       "      <td>342</td>\n",
       "    </tr>\n",
       "    <tr>\n",
       "      <th>2</th>\n",
       "      <td>248705</td>\n",
       "      <td>The Visitors: Bastille Day</td>\n",
       "      <td>Stuck in the corridors of time, Godefroy de Mo...</td>\n",
       "      <td>18.828</td>\n",
       "      <td>2016-03-23</td>\n",
       "      <td>4.090</td>\n",
       "      <td>636</td>\n",
       "    </tr>\n",
       "    <tr>\n",
       "      <th>3</th>\n",
       "      <td>17711</td>\n",
       "      <td>The Adventures of Rocky &amp; Bullwinkle</td>\n",
       "      <td>Rocky and Bullwinkle have been living off the ...</td>\n",
       "      <td>16.436</td>\n",
       "      <td>2000-06-30</td>\n",
       "      <td>4.075</td>\n",
       "      <td>335</td>\n",
       "    </tr>\n",
       "    <tr>\n",
       "      <th>4</th>\n",
       "      <td>580</td>\n",
       "      <td>Jaws: The Revenge</td>\n",
       "      <td>After another deadly shark attack, Ellen Brody...</td>\n",
       "      <td>30.996</td>\n",
       "      <td>1987-07-17</td>\n",
       "      <td>4.064</td>\n",
       "      <td>931</td>\n",
       "    </tr>\n",
       "  </tbody>\n",
       "</table>\n",
       "</div>"
      ],
      "text/plain": [
       "       id                                 title  \\\n",
       "0  168705                            BloodRayne   \n",
       "1   19766                    Inspector Gadget 2   \n",
       "2  248705            The Visitors: Bastille Day   \n",
       "3   17711  The Adventures of Rocky & Bullwinkle   \n",
       "4     580                     Jaws: The Revenge   \n",
       "\n",
       "                                            overview  popularity release_date  \\\n",
       "0  In 18th-century Romania, after spending much o...      17.499   2005-10-22   \n",
       "1  After capturing Claw, all the criminals have g...      20.772   2003-03-11   \n",
       "2  Stuck in the corridors of time, Godefroy de Mo...      18.828   2016-03-23   \n",
       "3  Rocky and Bullwinkle have been living off the ...      16.436   2000-06-30   \n",
       "4  After another deadly shark attack, Ellen Brody...      30.996   1987-07-17   \n",
       "\n",
       "   vote_average  vote_count  \n",
       "0         4.105         501  \n",
       "1         4.100         342  \n",
       "2         4.090         636  \n",
       "3         4.075         335  \n",
       "4         4.064         931  "
      ]
     },
     "execution_count": 2,
     "metadata": {},
     "output_type": "execute_result"
    }
   ],
   "source": [
    "df = pd.read_csv(r\"C:\\Users\\Natasha\\Downloads\\Top_rated_movies1.csv\\Top_rated_movies1.csv\",parse_dates=['release_date'])\n",
    "df\n",
    "df.head()\n",
    " "
   ]
  },
  {
   "cell_type": "code",
   "execution_count": 3,
   "metadata": {},
   "outputs": [
    {
     "name": "stdout",
     "output_type": "stream",
     "text": [
      "<class 'pandas.core.frame.DataFrame'>\n",
      "RangeIndex: 8831 entries, 0 to 8830\n",
      "Data columns (total 7 columns):\n",
      " #   Column        Non-Null Count  Dtype         \n",
      "---  ------        --------------  -----         \n",
      " 0   id            8831 non-null   int64         \n",
      " 1   title         8831 non-null   object        \n",
      " 2   overview      8830 non-null   object        \n",
      " 3   popularity    8831 non-null   float64       \n",
      " 4   release_date  8831 non-null   datetime64[ns]\n",
      " 5   vote_average  8831 non-null   float64       \n",
      " 6   vote_count    8831 non-null   int64         \n",
      "dtypes: datetime64[ns](1), float64(2), int64(2), object(2)\n",
      "memory usage: 483.1+ KB\n"
     ]
    }
   ],
   "source": [
    "df.info()"
   ]
  },
  {
   "cell_type": "code",
   "execution_count": 4,
   "metadata": {},
   "outputs": [
    {
     "data": {
      "text/plain": [
       "id              8811\n",
       "title           8514\n",
       "overview        8807\n",
       "popularity      7971\n",
       "release_date    5635\n",
       "vote_average    2922\n",
       "vote_count      3339\n",
       "dtype: int64"
      ]
     },
     "execution_count": 4,
     "metadata": {},
     "output_type": "execute_result"
    }
   ],
   "source": [
    "df.nunique()"
   ]
  },
  {
   "cell_type": "code",
   "execution_count": 5,
   "metadata": {},
   "outputs": [],
   "source": [
    "df.drop(columns='id',inplace=True)"
   ]
  },
  {
   "cell_type": "code",
   "execution_count": 6,
   "metadata": {},
   "outputs": [
    {
     "data": {
      "text/plain": [
       "8514"
      ]
     },
     "execution_count": 6,
     "metadata": {},
     "output_type": "execute_result"
    }
   ],
   "source": [
    "df.title.nunique()"
   ]
  },
  {
   "cell_type": "code",
   "execution_count": 7,
   "metadata": {},
   "outputs": [
    {
     "data": {
      "text/plain": [
       "title\n",
       "Return                        5\n",
       "Pinocchio                     4\n",
       "Beauty and the Beast          4\n",
       "Taxi                          4\n",
       "King Kong                     3\n",
       "                             ..\n",
       "The Andromeda Strain          1\n",
       "Love Don't Co$t a Thing       1\n",
       "Radio Days                    1\n",
       "The Report                    1\n",
       "Birdemic: Shock and Terror    1\n",
       "Name: count, Length: 8514, dtype: int64"
      ]
     },
     "execution_count": 7,
     "metadata": {},
     "output_type": "execute_result"
    }
   ],
   "source": [
    "df.title.value_counts()"
   ]
  },
  {
   "cell_type": "code",
   "execution_count": 8,
   "metadata": {},
   "outputs": [
    {
     "data": {
      "text/html": [
       "<div>\n",
       "<style scoped>\n",
       "    .dataframe tbody tr th:only-of-type {\n",
       "        vertical-align: middle;\n",
       "    }\n",
       "\n",
       "    .dataframe tbody tr th {\n",
       "        vertical-align: top;\n",
       "    }\n",
       "\n",
       "    .dataframe thead th {\n",
       "        text-align: right;\n",
       "    }\n",
       "</style>\n",
       "<table border=\"1\" class=\"dataframe\">\n",
       "  <thead>\n",
       "    <tr style=\"text-align: right;\">\n",
       "      <th></th>\n",
       "      <th>title</th>\n",
       "      <th>overview</th>\n",
       "      <th>popularity</th>\n",
       "      <th>release_date</th>\n",
       "      <th>vote_average</th>\n",
       "      <th>vote_count</th>\n",
       "    </tr>\n",
       "  </thead>\n",
       "  <tbody>\n",
       "    <tr>\n",
       "      <th>0</th>\n",
       "      <td>BloodRayne</td>\n",
       "      <td>In 18th-century Romania, after spending much o...</td>\n",
       "      <td>17.499</td>\n",
       "      <td>2005-10-22</td>\n",
       "      <td>4.105</td>\n",
       "      <td>501</td>\n",
       "    </tr>\n",
       "    <tr>\n",
       "      <th>1</th>\n",
       "      <td>Inspector Gadget 2</td>\n",
       "      <td>After capturing Claw, all the criminals have g...</td>\n",
       "      <td>20.772</td>\n",
       "      <td>2003-03-11</td>\n",
       "      <td>4.100</td>\n",
       "      <td>342</td>\n",
       "    </tr>\n",
       "    <tr>\n",
       "      <th>2</th>\n",
       "      <td>The Visitors: Bastille Day</td>\n",
       "      <td>Stuck in the corridors of time, Godefroy de Mo...</td>\n",
       "      <td>18.828</td>\n",
       "      <td>2016-03-23</td>\n",
       "      <td>4.090</td>\n",
       "      <td>636</td>\n",
       "    </tr>\n",
       "    <tr>\n",
       "      <th>3</th>\n",
       "      <td>The Adventures of Rocky &amp; Bullwinkle</td>\n",
       "      <td>Rocky and Bullwinkle have been living off the ...</td>\n",
       "      <td>16.436</td>\n",
       "      <td>2000-06-30</td>\n",
       "      <td>4.075</td>\n",
       "      <td>335</td>\n",
       "    </tr>\n",
       "    <tr>\n",
       "      <th>4</th>\n",
       "      <td>Jaws: The Revenge</td>\n",
       "      <td>After another deadly shark attack, Ellen Brody...</td>\n",
       "      <td>30.996</td>\n",
       "      <td>1987-07-17</td>\n",
       "      <td>4.064</td>\n",
       "      <td>931</td>\n",
       "    </tr>\n",
       "    <tr>\n",
       "      <th>5</th>\n",
       "      <td>French Fried Vacations 3: Friends Forever</td>\n",
       "      <td>After the Club Med and skiing, what happened t...</td>\n",
       "      <td>9.060</td>\n",
       "      <td>2006-02-01</td>\n",
       "      <td>4.058</td>\n",
       "      <td>680</td>\n",
       "    </tr>\n",
       "    <tr>\n",
       "      <th>6</th>\n",
       "      <td>Gigli</td>\n",
       "      <td>Gigli is ordered to kidnap the psychologically...</td>\n",
       "      <td>14.759</td>\n",
       "      <td>2003-08-01</td>\n",
       "      <td>4.042</td>\n",
       "      <td>426</td>\n",
       "    </tr>\n",
       "    <tr>\n",
       "      <th>7</th>\n",
       "      <td>Meet the Spartans</td>\n",
       "      <td>The heroic Leonidas, armed with nothing but le...</td>\n",
       "      <td>45.963</td>\n",
       "      <td>2008-01-24</td>\n",
       "      <td>4.000</td>\n",
       "      <td>1555</td>\n",
       "    </tr>\n",
       "    <tr>\n",
       "      <th>8</th>\n",
       "      <td>The Room</td>\n",
       "      <td>Johnny is a successful banker with great respe...</td>\n",
       "      <td>14.775</td>\n",
       "      <td>2003-06-27</td>\n",
       "      <td>4.035</td>\n",
       "      <td>1298</td>\n",
       "    </tr>\n",
       "    <tr>\n",
       "      <th>9</th>\n",
       "      <td>Wounds</td>\n",
       "      <td>Disturbing and mysterious things begin to happ...</td>\n",
       "      <td>21.921</td>\n",
       "      <td>2019-01-26</td>\n",
       "      <td>4.021</td>\n",
       "      <td>739</td>\n",
       "    </tr>\n",
       "  </tbody>\n",
       "</table>\n",
       "</div>"
      ],
      "text/plain": [
       "                                       title  \\\n",
       "0                                 BloodRayne   \n",
       "1                         Inspector Gadget 2   \n",
       "2                 The Visitors: Bastille Day   \n",
       "3       The Adventures of Rocky & Bullwinkle   \n",
       "4                          Jaws: The Revenge   \n",
       "5  French Fried Vacations 3: Friends Forever   \n",
       "6                                      Gigli   \n",
       "7                          Meet the Spartans   \n",
       "8                                   The Room   \n",
       "9                                     Wounds   \n",
       "\n",
       "                                            overview  popularity release_date  \\\n",
       "0  In 18th-century Romania, after spending much o...      17.499   2005-10-22   \n",
       "1  After capturing Claw, all the criminals have g...      20.772   2003-03-11   \n",
       "2  Stuck in the corridors of time, Godefroy de Mo...      18.828   2016-03-23   \n",
       "3  Rocky and Bullwinkle have been living off the ...      16.436   2000-06-30   \n",
       "4  After another deadly shark attack, Ellen Brody...      30.996   1987-07-17   \n",
       "5  After the Club Med and skiing, what happened t...       9.060   2006-02-01   \n",
       "6  Gigli is ordered to kidnap the psychologically...      14.759   2003-08-01   \n",
       "7  The heroic Leonidas, armed with nothing but le...      45.963   2008-01-24   \n",
       "8  Johnny is a successful banker with great respe...      14.775   2003-06-27   \n",
       "9  Disturbing and mysterious things begin to happ...      21.921   2019-01-26   \n",
       "\n",
       "   vote_average  vote_count  \n",
       "0         4.105         501  \n",
       "1         4.100         342  \n",
       "2         4.090         636  \n",
       "3         4.075         335  \n",
       "4         4.064         931  \n",
       "5         4.058         680  \n",
       "6         4.042         426  \n",
       "7         4.000        1555  \n",
       "8         4.035        1298  \n",
       "9         4.021         739  "
      ]
     },
     "execution_count": 8,
     "metadata": {},
     "output_type": "execute_result"
    }
   ],
   "source": [
    "df.head(10)"
   ]
  },
  {
   "cell_type": "code",
   "execution_count": 9,
   "metadata": {},
   "outputs": [
    {
     "data": {
      "text/html": [
       "<div>\n",
       "<style scoped>\n",
       "    .dataframe tbody tr th:only-of-type {\n",
       "        vertical-align: middle;\n",
       "    }\n",
       "\n",
       "    .dataframe tbody tr th {\n",
       "        vertical-align: top;\n",
       "    }\n",
       "\n",
       "    .dataframe thead th {\n",
       "        text-align: right;\n",
       "    }\n",
       "</style>\n",
       "<table border=\"1\" class=\"dataframe\">\n",
       "  <thead>\n",
       "    <tr style=\"text-align: right;\">\n",
       "      <th></th>\n",
       "      <th>title</th>\n",
       "      <th>overview</th>\n",
       "      <th>popularity</th>\n",
       "      <th>release_date</th>\n",
       "      <th>vote_average</th>\n",
       "      <th>vote_count</th>\n",
       "    </tr>\n",
       "  </thead>\n",
       "  <tbody>\n",
       "    <tr>\n",
       "      <th>8821</th>\n",
       "      <td>Cosmic Sin</td>\n",
       "      <td>In the year 2524, four centuries after humans ...</td>\n",
       "      <td>34.687</td>\n",
       "      <td>2021-03-12</td>\n",
       "      <td>4.106</td>\n",
       "      <td>502</td>\n",
       "    </tr>\n",
       "    <tr>\n",
       "      <th>8822</th>\n",
       "      <td>FearDotCom</td>\n",
       "      <td>When four bodies are discovered among the indu...</td>\n",
       "      <td>16.623</td>\n",
       "      <td>2002-08-09</td>\n",
       "      <td>3.700</td>\n",
       "      <td>333</td>\n",
       "    </tr>\n",
       "    <tr>\n",
       "      <th>8823</th>\n",
       "      <td>Lucky Luke and the Daltons</td>\n",
       "      <td>Joe and Averell are the eldest and youngest of...</td>\n",
       "      <td>12.097</td>\n",
       "      <td>2004-11-08</td>\n",
       "      <td>3.695</td>\n",
       "      <td>315</td>\n",
       "    </tr>\n",
       "    <tr>\n",
       "      <th>8824</th>\n",
       "      <td>The Star Wars Holiday Special</td>\n",
       "      <td>Luke Skywalker and Han Solo battle evil Imperi...</td>\n",
       "      <td>12.297</td>\n",
       "      <td>1978-12-01</td>\n",
       "      <td>3.350</td>\n",
       "      <td>420</td>\n",
       "    </tr>\n",
       "    <tr>\n",
       "      <th>8825</th>\n",
       "      <td>Disaster Movie</td>\n",
       "      <td>The filmmaking team behind the hits \"Scary Mov...</td>\n",
       "      <td>20.346</td>\n",
       "      <td>2008-08-29</td>\n",
       "      <td>3.232</td>\n",
       "      <td>966</td>\n",
       "    </tr>\n",
       "    <tr>\n",
       "      <th>8826</th>\n",
       "      <td>Alone in the Dark</td>\n",
       "      <td>Edward Carnby is a private investigator specia...</td>\n",
       "      <td>12.499</td>\n",
       "      <td>2005-01-28</td>\n",
       "      <td>3.228</td>\n",
       "      <td>550</td>\n",
       "    </tr>\n",
       "    <tr>\n",
       "      <th>8827</th>\n",
       "      <td>Battlefield Earth</td>\n",
       "      <td>In the year 3000, man is no match for the Psyc...</td>\n",
       "      <td>19.133</td>\n",
       "      <td>2000-05-12</td>\n",
       "      <td>3.221</td>\n",
       "      <td>761</td>\n",
       "    </tr>\n",
       "    <tr>\n",
       "      <th>8828</th>\n",
       "      <td>House of the Dead</td>\n",
       "      <td>Set on an island off the coast, a techno rave ...</td>\n",
       "      <td>10.795</td>\n",
       "      <td>2003-04-11</td>\n",
       "      <td>3.100</td>\n",
       "      <td>359</td>\n",
       "    </tr>\n",
       "    <tr>\n",
       "      <th>8829</th>\n",
       "      <td>Dragonball Evolution</td>\n",
       "      <td>On his 18th birthday, Goku receives a mystical...</td>\n",
       "      <td>38.646</td>\n",
       "      <td>2009-03-12</td>\n",
       "      <td>2.891</td>\n",
       "      <td>1925</td>\n",
       "    </tr>\n",
       "    <tr>\n",
       "      <th>8830</th>\n",
       "      <td>Birdemic: Shock and Terror</td>\n",
       "      <td>A platoon of eagles and vultures attacks the r...</td>\n",
       "      <td>13.853</td>\n",
       "      <td>2010-02-27</td>\n",
       "      <td>2.106</td>\n",
       "      <td>306</td>\n",
       "    </tr>\n",
       "  </tbody>\n",
       "</table>\n",
       "</div>"
      ],
      "text/plain": [
       "                              title  \\\n",
       "8821                     Cosmic Sin   \n",
       "8822                     FearDotCom   \n",
       "8823     Lucky Luke and the Daltons   \n",
       "8824  The Star Wars Holiday Special   \n",
       "8825                 Disaster Movie   \n",
       "8826              Alone in the Dark   \n",
       "8827              Battlefield Earth   \n",
       "8828              House of the Dead   \n",
       "8829           Dragonball Evolution   \n",
       "8830     Birdemic: Shock and Terror   \n",
       "\n",
       "                                               overview  popularity  \\\n",
       "8821  In the year 2524, four centuries after humans ...      34.687   \n",
       "8822  When four bodies are discovered among the indu...      16.623   \n",
       "8823  Joe and Averell are the eldest and youngest of...      12.097   \n",
       "8824  Luke Skywalker and Han Solo battle evil Imperi...      12.297   \n",
       "8825  The filmmaking team behind the hits \"Scary Mov...      20.346   \n",
       "8826  Edward Carnby is a private investigator specia...      12.499   \n",
       "8827  In the year 3000, man is no match for the Psyc...      19.133   \n",
       "8828  Set on an island off the coast, a techno rave ...      10.795   \n",
       "8829  On his 18th birthday, Goku receives a mystical...      38.646   \n",
       "8830  A platoon of eagles and vultures attacks the r...      13.853   \n",
       "\n",
       "     release_date  vote_average  vote_count  \n",
       "8821   2021-03-12         4.106         502  \n",
       "8822   2002-08-09         3.700         333  \n",
       "8823   2004-11-08         3.695         315  \n",
       "8824   1978-12-01         3.350         420  \n",
       "8825   2008-08-29         3.232         966  \n",
       "8826   2005-01-28         3.228         550  \n",
       "8827   2000-05-12         3.221         761  \n",
       "8828   2003-04-11         3.100         359  \n",
       "8829   2009-03-12         2.891        1925  \n",
       "8830   2010-02-27         2.106         306  "
      ]
     },
     "execution_count": 9,
     "metadata": {},
     "output_type": "execute_result"
    }
   ],
   "source": [
    "df.tail(10)"
   ]
  },
  {
   "cell_type": "code",
   "execution_count": 10,
   "metadata": {},
   "outputs": [
    {
     "data": {
      "text/plain": [
       "(8831, 6)"
      ]
     },
     "execution_count": 10,
     "metadata": {},
     "output_type": "execute_result"
    }
   ],
   "source": [
    "df.shape"
   ]
  },
  {
   "cell_type": "code",
   "execution_count": 11,
   "metadata": {},
   "outputs": [
    {
     "name": "stdout",
     "output_type": "stream",
     "text": [
      "Number of rows 8831\n",
      "Number of columns 6\n"
     ]
    }
   ],
   "source": [
    "print('Number of rows',df.shape[0])\n",
    "print('Number of columns',df.shape[1])"
   ]
  },
  {
   "cell_type": "markdown",
   "metadata": {},
   "source": [
    "##### Check missing values"
   ]
  },
  {
   "cell_type": "code",
   "execution_count": 12,
   "metadata": {},
   "outputs": [
    {
     "name": "stdout",
     "output_type": "stream",
     "text": [
      "Any missing value True\n"
     ]
    }
   ],
   "source": [
    "print('Any missing value',df.isnull().values.any())   #True means our dataset contain missing values"
   ]
  },
  {
   "cell_type": "code",
   "execution_count": 13,
   "metadata": {},
   "outputs": [
    {
     "data": {
      "text/html": [
       "<div>\n",
       "<style scoped>\n",
       "    .dataframe tbody tr th:only-of-type {\n",
       "        vertical-align: middle;\n",
       "    }\n",
       "\n",
       "    .dataframe tbody tr th {\n",
       "        vertical-align: top;\n",
       "    }\n",
       "\n",
       "    .dataframe thead th {\n",
       "        text-align: right;\n",
       "    }\n",
       "</style>\n",
       "<table border=\"1\" class=\"dataframe\">\n",
       "  <thead>\n",
       "    <tr style=\"text-align: right;\">\n",
       "      <th></th>\n",
       "      <th>title</th>\n",
       "      <th>overview</th>\n",
       "      <th>popularity</th>\n",
       "      <th>release_date</th>\n",
       "      <th>vote_average</th>\n",
       "      <th>vote_count</th>\n",
       "    </tr>\n",
       "  </thead>\n",
       "  <tbody>\n",
       "    <tr>\n",
       "      <th>0</th>\n",
       "      <td>False</td>\n",
       "      <td>False</td>\n",
       "      <td>False</td>\n",
       "      <td>False</td>\n",
       "      <td>False</td>\n",
       "      <td>False</td>\n",
       "    </tr>\n",
       "    <tr>\n",
       "      <th>1</th>\n",
       "      <td>False</td>\n",
       "      <td>False</td>\n",
       "      <td>False</td>\n",
       "      <td>False</td>\n",
       "      <td>False</td>\n",
       "      <td>False</td>\n",
       "    </tr>\n",
       "    <tr>\n",
       "      <th>2</th>\n",
       "      <td>False</td>\n",
       "      <td>False</td>\n",
       "      <td>False</td>\n",
       "      <td>False</td>\n",
       "      <td>False</td>\n",
       "      <td>False</td>\n",
       "    </tr>\n",
       "    <tr>\n",
       "      <th>3</th>\n",
       "      <td>False</td>\n",
       "      <td>False</td>\n",
       "      <td>False</td>\n",
       "      <td>False</td>\n",
       "      <td>False</td>\n",
       "      <td>False</td>\n",
       "    </tr>\n",
       "    <tr>\n",
       "      <th>4</th>\n",
       "      <td>False</td>\n",
       "      <td>False</td>\n",
       "      <td>False</td>\n",
       "      <td>False</td>\n",
       "      <td>False</td>\n",
       "      <td>False</td>\n",
       "    </tr>\n",
       "    <tr>\n",
       "      <th>...</th>\n",
       "      <td>...</td>\n",
       "      <td>...</td>\n",
       "      <td>...</td>\n",
       "      <td>...</td>\n",
       "      <td>...</td>\n",
       "      <td>...</td>\n",
       "    </tr>\n",
       "    <tr>\n",
       "      <th>8826</th>\n",
       "      <td>False</td>\n",
       "      <td>False</td>\n",
       "      <td>False</td>\n",
       "      <td>False</td>\n",
       "      <td>False</td>\n",
       "      <td>False</td>\n",
       "    </tr>\n",
       "    <tr>\n",
       "      <th>8827</th>\n",
       "      <td>False</td>\n",
       "      <td>False</td>\n",
       "      <td>False</td>\n",
       "      <td>False</td>\n",
       "      <td>False</td>\n",
       "      <td>False</td>\n",
       "    </tr>\n",
       "    <tr>\n",
       "      <th>8828</th>\n",
       "      <td>False</td>\n",
       "      <td>False</td>\n",
       "      <td>False</td>\n",
       "      <td>False</td>\n",
       "      <td>False</td>\n",
       "      <td>False</td>\n",
       "    </tr>\n",
       "    <tr>\n",
       "      <th>8829</th>\n",
       "      <td>False</td>\n",
       "      <td>False</td>\n",
       "      <td>False</td>\n",
       "      <td>False</td>\n",
       "      <td>False</td>\n",
       "      <td>False</td>\n",
       "    </tr>\n",
       "    <tr>\n",
       "      <th>8830</th>\n",
       "      <td>False</td>\n",
       "      <td>False</td>\n",
       "      <td>False</td>\n",
       "      <td>False</td>\n",
       "      <td>False</td>\n",
       "      <td>False</td>\n",
       "    </tr>\n",
       "  </tbody>\n",
       "</table>\n",
       "<p>8831 rows × 6 columns</p>\n",
       "</div>"
      ],
      "text/plain": [
       "      title  overview  popularity  release_date  vote_average  vote_count\n",
       "0     False     False       False         False         False       False\n",
       "1     False     False       False         False         False       False\n",
       "2     False     False       False         False         False       False\n",
       "3     False     False       False         False         False       False\n",
       "4     False     False       False         False         False       False\n",
       "...     ...       ...         ...           ...           ...         ...\n",
       "8826  False     False       False         False         False       False\n",
       "8827  False     False       False         False         False       False\n",
       "8828  False     False       False         False         False       False\n",
       "8829  False     False       False         False         False       False\n",
       "8830  False     False       False         False         False       False\n",
       "\n",
       "[8831 rows x 6 columns]"
      ]
     },
     "execution_count": 13,
     "metadata": {},
     "output_type": "execute_result"
    }
   ],
   "source": [
    "#check column if it contain any missing values\n",
    "df.isnull()"
   ]
  },
  {
   "cell_type": "code",
   "execution_count": 14,
   "metadata": {},
   "outputs": [
    {
     "data": {
      "text/plain": [
       "title           0\n",
       "overview        1\n",
       "popularity      0\n",
       "release_date    0\n",
       "vote_average    0\n",
       "vote_count      0\n",
       "dtype: int64"
      ]
     },
     "execution_count": 14,
     "metadata": {},
     "output_type": "execute_result"
    }
   ],
   "source": [
    "df.isnull().sum()"
   ]
  },
  {
   "cell_type": "code",
   "execution_count": 15,
   "metadata": {},
   "outputs": [],
   "source": [
    "#This way visualise missing values\n",
    "# sns.heatmap(df.isnull())"
   ]
  },
  {
   "cell_type": "code",
   "execution_count": 16,
   "metadata": {},
   "outputs": [
    {
     "data": {
      "text/plain": [
       "title           0.000000\n",
       "overview        0.011324\n",
       "popularity      0.000000\n",
       "release_date    0.000000\n",
       "vote_average    0.000000\n",
       "vote_count      0.000000\n",
       "dtype: float64"
      ]
     },
     "execution_count": 16,
     "metadata": {},
     "output_type": "execute_result"
    }
   ],
   "source": [
    "# missing values in percentage\n",
    "per_missing= df.isnull().sum()* 100 / len(df)\n",
    "per_missing"
   ]
  },
  {
   "cell_type": "markdown",
   "metadata": {},
   "source": [
    "#### Drop missing values"
   ]
  },
  {
   "cell_type": "code",
   "execution_count": 17,
   "metadata": {},
   "outputs": [
    {
     "data": {
      "text/html": [
       "<div>\n",
       "<style scoped>\n",
       "    .dataframe tbody tr th:only-of-type {\n",
       "        vertical-align: middle;\n",
       "    }\n",
       "\n",
       "    .dataframe tbody tr th {\n",
       "        vertical-align: top;\n",
       "    }\n",
       "\n",
       "    .dataframe thead th {\n",
       "        text-align: right;\n",
       "    }\n",
       "</style>\n",
       "<table border=\"1\" class=\"dataframe\">\n",
       "  <thead>\n",
       "    <tr style=\"text-align: right;\">\n",
       "      <th></th>\n",
       "      <th>title</th>\n",
       "      <th>overview</th>\n",
       "      <th>popularity</th>\n",
       "      <th>release_date</th>\n",
       "      <th>vote_average</th>\n",
       "      <th>vote_count</th>\n",
       "    </tr>\n",
       "  </thead>\n",
       "  <tbody>\n",
       "    <tr>\n",
       "      <th>0</th>\n",
       "      <td>BloodRayne</td>\n",
       "      <td>In 18th-century Romania, after spending much o...</td>\n",
       "      <td>17.499</td>\n",
       "      <td>2005-10-22</td>\n",
       "      <td>4.105</td>\n",
       "      <td>501</td>\n",
       "    </tr>\n",
       "    <tr>\n",
       "      <th>1</th>\n",
       "      <td>Inspector Gadget 2</td>\n",
       "      <td>After capturing Claw, all the criminals have g...</td>\n",
       "      <td>20.772</td>\n",
       "      <td>2003-03-11</td>\n",
       "      <td>4.100</td>\n",
       "      <td>342</td>\n",
       "    </tr>\n",
       "    <tr>\n",
       "      <th>2</th>\n",
       "      <td>The Visitors: Bastille Day</td>\n",
       "      <td>Stuck in the corridors of time, Godefroy de Mo...</td>\n",
       "      <td>18.828</td>\n",
       "      <td>2016-03-23</td>\n",
       "      <td>4.090</td>\n",
       "      <td>636</td>\n",
       "    </tr>\n",
       "    <tr>\n",
       "      <th>3</th>\n",
       "      <td>The Adventures of Rocky &amp; Bullwinkle</td>\n",
       "      <td>Rocky and Bullwinkle have been living off the ...</td>\n",
       "      <td>16.436</td>\n",
       "      <td>2000-06-30</td>\n",
       "      <td>4.075</td>\n",
       "      <td>335</td>\n",
       "    </tr>\n",
       "    <tr>\n",
       "      <th>4</th>\n",
       "      <td>Jaws: The Revenge</td>\n",
       "      <td>After another deadly shark attack, Ellen Brody...</td>\n",
       "      <td>30.996</td>\n",
       "      <td>1987-07-17</td>\n",
       "      <td>4.064</td>\n",
       "      <td>931</td>\n",
       "    </tr>\n",
       "    <tr>\n",
       "      <th>...</th>\n",
       "      <td>...</td>\n",
       "      <td>...</td>\n",
       "      <td>...</td>\n",
       "      <td>...</td>\n",
       "      <td>...</td>\n",
       "      <td>...</td>\n",
       "    </tr>\n",
       "    <tr>\n",
       "      <th>8826</th>\n",
       "      <td>Alone in the Dark</td>\n",
       "      <td>Edward Carnby is a private investigator specia...</td>\n",
       "      <td>12.499</td>\n",
       "      <td>2005-01-28</td>\n",
       "      <td>3.228</td>\n",
       "      <td>550</td>\n",
       "    </tr>\n",
       "    <tr>\n",
       "      <th>8827</th>\n",
       "      <td>Battlefield Earth</td>\n",
       "      <td>In the year 3000, man is no match for the Psyc...</td>\n",
       "      <td>19.133</td>\n",
       "      <td>2000-05-12</td>\n",
       "      <td>3.221</td>\n",
       "      <td>761</td>\n",
       "    </tr>\n",
       "    <tr>\n",
       "      <th>8828</th>\n",
       "      <td>House of the Dead</td>\n",
       "      <td>Set on an island off the coast, a techno rave ...</td>\n",
       "      <td>10.795</td>\n",
       "      <td>2003-04-11</td>\n",
       "      <td>3.100</td>\n",
       "      <td>359</td>\n",
       "    </tr>\n",
       "    <tr>\n",
       "      <th>8829</th>\n",
       "      <td>Dragonball Evolution</td>\n",
       "      <td>On his 18th birthday, Goku receives a mystical...</td>\n",
       "      <td>38.646</td>\n",
       "      <td>2009-03-12</td>\n",
       "      <td>2.891</td>\n",
       "      <td>1925</td>\n",
       "    </tr>\n",
       "    <tr>\n",
       "      <th>8830</th>\n",
       "      <td>Birdemic: Shock and Terror</td>\n",
       "      <td>A platoon of eagles and vultures attacks the r...</td>\n",
       "      <td>13.853</td>\n",
       "      <td>2010-02-27</td>\n",
       "      <td>2.106</td>\n",
       "      <td>306</td>\n",
       "    </tr>\n",
       "  </tbody>\n",
       "</table>\n",
       "<p>8830 rows × 6 columns</p>\n",
       "</div>"
      ],
      "text/plain": [
       "                                     title  \\\n",
       "0                               BloodRayne   \n",
       "1                       Inspector Gadget 2   \n",
       "2               The Visitors: Bastille Day   \n",
       "3     The Adventures of Rocky & Bullwinkle   \n",
       "4                        Jaws: The Revenge   \n",
       "...                                    ...   \n",
       "8826                     Alone in the Dark   \n",
       "8827                     Battlefield Earth   \n",
       "8828                     House of the Dead   \n",
       "8829                  Dragonball Evolution   \n",
       "8830            Birdemic: Shock and Terror   \n",
       "\n",
       "                                               overview  popularity  \\\n",
       "0     In 18th-century Romania, after spending much o...      17.499   \n",
       "1     After capturing Claw, all the criminals have g...      20.772   \n",
       "2     Stuck in the corridors of time, Godefroy de Mo...      18.828   \n",
       "3     Rocky and Bullwinkle have been living off the ...      16.436   \n",
       "4     After another deadly shark attack, Ellen Brody...      30.996   \n",
       "...                                                 ...         ...   \n",
       "8826  Edward Carnby is a private investigator specia...      12.499   \n",
       "8827  In the year 3000, man is no match for the Psyc...      19.133   \n",
       "8828  Set on an island off the coast, a techno rave ...      10.795   \n",
       "8829  On his 18th birthday, Goku receives a mystical...      38.646   \n",
       "8830  A platoon of eagles and vultures attacks the r...      13.853   \n",
       "\n",
       "     release_date  vote_average  vote_count  \n",
       "0      2005-10-22         4.105         501  \n",
       "1      2003-03-11         4.100         342  \n",
       "2      2016-03-23         4.090         636  \n",
       "3      2000-06-30         4.075         335  \n",
       "4      1987-07-17         4.064         931  \n",
       "...           ...           ...         ...  \n",
       "8826   2005-01-28         3.228         550  \n",
       "8827   2000-05-12         3.221         761  \n",
       "8828   2003-04-11         3.100         359  \n",
       "8829   2009-03-12         2.891        1925  \n",
       "8830   2010-02-27         2.106         306  \n",
       "\n",
       "[8830 rows x 6 columns]"
      ]
     },
     "execution_count": 17,
     "metadata": {},
     "output_type": "execute_result"
    }
   ],
   "source": [
    "df.dropna(axis=0)  #axis=0 drop rows ,inplace = True"
   ]
  },
  {
   "cell_type": "markdown",
   "metadata": {},
   "source": [
    "### Check for dublicate data"
   ]
  },
  {
   "cell_type": "code",
   "execution_count": 18,
   "metadata": {},
   "outputs": [
    {
     "name": "stdout",
     "output_type": "stream",
     "text": [
      "Are there any dublicate values? False\n"
     ]
    }
   ],
   "source": [
    "dup_data = df.duplicated().any()\n",
    "print('Are there any dublicate values?',dup_data)  #False is there is no duplicate values"
   ]
  },
  {
   "cell_type": "code",
   "execution_count": 19,
   "metadata": {},
   "outputs": [],
   "source": [
    "# if there is duplicate values we use drop\n",
    "# df=df.drop_duplicates()  \n",
    "# df"
   ]
  },
  {
   "cell_type": "markdown",
   "metadata": {},
   "source": [
    "#### Get overall statistics about the DataFrame"
   ]
  },
  {
   "cell_type": "code",
   "execution_count": 20,
   "metadata": {},
   "outputs": [
    {
     "data": {
      "text/html": [
       "<div>\n",
       "<style scoped>\n",
       "    .dataframe tbody tr th:only-of-type {\n",
       "        vertical-align: middle;\n",
       "    }\n",
       "\n",
       "    .dataframe tbody tr th {\n",
       "        vertical-align: top;\n",
       "    }\n",
       "\n",
       "    .dataframe thead th {\n",
       "        text-align: right;\n",
       "    }\n",
       "</style>\n",
       "<table border=\"1\" class=\"dataframe\">\n",
       "  <thead>\n",
       "    <tr style=\"text-align: right;\">\n",
       "      <th></th>\n",
       "      <th>popularity</th>\n",
       "      <th>release_date</th>\n",
       "      <th>vote_average</th>\n",
       "      <th>vote_count</th>\n",
       "    </tr>\n",
       "  </thead>\n",
       "  <tbody>\n",
       "    <tr>\n",
       "      <th>count</th>\n",
       "      <td>8831.000000</td>\n",
       "      <td>8831</td>\n",
       "      <td>8831.000000</td>\n",
       "      <td>8831.000000</td>\n",
       "    </tr>\n",
       "    <tr>\n",
       "      <th>mean</th>\n",
       "      <td>33.136177</td>\n",
       "      <td>2004-08-20 00:36:41.336201856</td>\n",
       "      <td>6.639059</td>\n",
       "      <td>1969.126486</td>\n",
       "    </tr>\n",
       "    <tr>\n",
       "      <th>min</th>\n",
       "      <td>0.600000</td>\n",
       "      <td>1902-04-17 00:00:00</td>\n",
       "      <td>2.106000</td>\n",
       "      <td>1.000000</td>\n",
       "    </tr>\n",
       "    <tr>\n",
       "      <th>25%</th>\n",
       "      <td>16.729000</td>\n",
       "      <td>1998-01-30 00:00:00</td>\n",
       "      <td>6.113500</td>\n",
       "      <td>469.000000</td>\n",
       "    </tr>\n",
       "    <tr>\n",
       "      <th>50%</th>\n",
       "      <td>23.804000</td>\n",
       "      <td>2009-08-03 00:00:00</td>\n",
       "      <td>6.662000</td>\n",
       "      <td>846.000000</td>\n",
       "    </tr>\n",
       "    <tr>\n",
       "      <th>75%</th>\n",
       "      <td>35.751500</td>\n",
       "      <td>2016-08-02 12:00:00</td>\n",
       "      <td>7.205000</td>\n",
       "      <td>1966.000000</td>\n",
       "    </tr>\n",
       "    <tr>\n",
       "      <th>max</th>\n",
       "      <td>1766.305000</td>\n",
       "      <td>2023-11-23 00:00:00</td>\n",
       "      <td>8.708000</td>\n",
       "      <td>34794.000000</td>\n",
       "    </tr>\n",
       "    <tr>\n",
       "      <th>std</th>\n",
       "      <td>49.108903</td>\n",
       "      <td>NaN</td>\n",
       "      <td>0.794924</td>\n",
       "      <td>3059.560533</td>\n",
       "    </tr>\n",
       "  </tbody>\n",
       "</table>\n",
       "</div>"
      ],
      "text/plain": [
       "        popularity                   release_date  vote_average    vote_count\n",
       "count  8831.000000                           8831   8831.000000   8831.000000\n",
       "mean     33.136177  2004-08-20 00:36:41.336201856      6.639059   1969.126486\n",
       "min       0.600000            1902-04-17 00:00:00      2.106000      1.000000\n",
       "25%      16.729000            1998-01-30 00:00:00      6.113500    469.000000\n",
       "50%      23.804000            2009-08-03 00:00:00      6.662000    846.000000\n",
       "75%      35.751500            2016-08-02 12:00:00      7.205000   1966.000000\n",
       "max    1766.305000            2023-11-23 00:00:00      8.708000  34794.000000\n",
       "std      49.108903                            NaN      0.794924   3059.560533"
      ]
     },
     "execution_count": 20,
     "metadata": {},
     "output_type": "execute_result"
    }
   ],
   "source": [
    "df.describe()"
   ]
  },
  {
   "cell_type": "code",
   "execution_count": 21,
   "metadata": {},
   "outputs": [
    {
     "data": {
      "text/html": [
       "<div>\n",
       "<style scoped>\n",
       "    .dataframe tbody tr th:only-of-type {\n",
       "        vertical-align: middle;\n",
       "    }\n",
       "\n",
       "    .dataframe tbody tr th {\n",
       "        vertical-align: top;\n",
       "    }\n",
       "\n",
       "    .dataframe thead th {\n",
       "        text-align: right;\n",
       "    }\n",
       "</style>\n",
       "<table border=\"1\" class=\"dataframe\">\n",
       "  <thead>\n",
       "    <tr style=\"text-align: right;\">\n",
       "      <th></th>\n",
       "      <th>title</th>\n",
       "      <th>overview</th>\n",
       "      <th>popularity</th>\n",
       "      <th>release_date</th>\n",
       "      <th>vote_average</th>\n",
       "      <th>vote_count</th>\n",
       "    </tr>\n",
       "  </thead>\n",
       "  <tbody>\n",
       "    <tr>\n",
       "      <th>count</th>\n",
       "      <td>8831</td>\n",
       "      <td>8830</td>\n",
       "      <td>8831.000000</td>\n",
       "      <td>8831</td>\n",
       "      <td>8831.000000</td>\n",
       "      <td>8831.000000</td>\n",
       "    </tr>\n",
       "    <tr>\n",
       "      <th>unique</th>\n",
       "      <td>8514</td>\n",
       "      <td>8807</td>\n",
       "      <td>NaN</td>\n",
       "      <td>NaN</td>\n",
       "      <td>NaN</td>\n",
       "      <td>NaN</td>\n",
       "    </tr>\n",
       "    <tr>\n",
       "      <th>top</th>\n",
       "      <td>Return</td>\n",
       "      <td>Bond has left active service and is enjoying a...</td>\n",
       "      <td>NaN</td>\n",
       "      <td>NaN</td>\n",
       "      <td>NaN</td>\n",
       "      <td>NaN</td>\n",
       "    </tr>\n",
       "    <tr>\n",
       "      <th>freq</th>\n",
       "      <td>5</td>\n",
       "      <td>2</td>\n",
       "      <td>NaN</td>\n",
       "      <td>NaN</td>\n",
       "      <td>NaN</td>\n",
       "      <td>NaN</td>\n",
       "    </tr>\n",
       "    <tr>\n",
       "      <th>mean</th>\n",
       "      <td>NaN</td>\n",
       "      <td>NaN</td>\n",
       "      <td>33.136177</td>\n",
       "      <td>2004-08-20 00:36:41.336201856</td>\n",
       "      <td>6.639059</td>\n",
       "      <td>1969.126486</td>\n",
       "    </tr>\n",
       "    <tr>\n",
       "      <th>min</th>\n",
       "      <td>NaN</td>\n",
       "      <td>NaN</td>\n",
       "      <td>0.600000</td>\n",
       "      <td>1902-04-17 00:00:00</td>\n",
       "      <td>2.106000</td>\n",
       "      <td>1.000000</td>\n",
       "    </tr>\n",
       "    <tr>\n",
       "      <th>25%</th>\n",
       "      <td>NaN</td>\n",
       "      <td>NaN</td>\n",
       "      <td>16.729000</td>\n",
       "      <td>1998-01-30 00:00:00</td>\n",
       "      <td>6.113500</td>\n",
       "      <td>469.000000</td>\n",
       "    </tr>\n",
       "    <tr>\n",
       "      <th>50%</th>\n",
       "      <td>NaN</td>\n",
       "      <td>NaN</td>\n",
       "      <td>23.804000</td>\n",
       "      <td>2009-08-03 00:00:00</td>\n",
       "      <td>6.662000</td>\n",
       "      <td>846.000000</td>\n",
       "    </tr>\n",
       "    <tr>\n",
       "      <th>75%</th>\n",
       "      <td>NaN</td>\n",
       "      <td>NaN</td>\n",
       "      <td>35.751500</td>\n",
       "      <td>2016-08-02 12:00:00</td>\n",
       "      <td>7.205000</td>\n",
       "      <td>1966.000000</td>\n",
       "    </tr>\n",
       "    <tr>\n",
       "      <th>max</th>\n",
       "      <td>NaN</td>\n",
       "      <td>NaN</td>\n",
       "      <td>1766.305000</td>\n",
       "      <td>2023-11-23 00:00:00</td>\n",
       "      <td>8.708000</td>\n",
       "      <td>34794.000000</td>\n",
       "    </tr>\n",
       "    <tr>\n",
       "      <th>std</th>\n",
       "      <td>NaN</td>\n",
       "      <td>NaN</td>\n",
       "      <td>49.108903</td>\n",
       "      <td>NaN</td>\n",
       "      <td>0.794924</td>\n",
       "      <td>3059.560533</td>\n",
       "    </tr>\n",
       "  </tbody>\n",
       "</table>\n",
       "</div>"
      ],
      "text/plain": [
       "         title                                           overview  \\\n",
       "count     8831                                               8830   \n",
       "unique    8514                                               8807   \n",
       "top     Return  Bond has left active service and is enjoying a...   \n",
       "freq         5                                                  2   \n",
       "mean       NaN                                                NaN   \n",
       "min        NaN                                                NaN   \n",
       "25%        NaN                                                NaN   \n",
       "50%        NaN                                                NaN   \n",
       "75%        NaN                                                NaN   \n",
       "max        NaN                                                NaN   \n",
       "std        NaN                                                NaN   \n",
       "\n",
       "         popularity                   release_date  vote_average    vote_count  \n",
       "count   8831.000000                           8831   8831.000000   8831.000000  \n",
       "unique          NaN                            NaN           NaN           NaN  \n",
       "top             NaN                            NaN           NaN           NaN  \n",
       "freq            NaN                            NaN           NaN           NaN  \n",
       "mean      33.136177  2004-08-20 00:36:41.336201856      6.639059   1969.126486  \n",
       "min        0.600000            1902-04-17 00:00:00      2.106000      1.000000  \n",
       "25%       16.729000            1998-01-30 00:00:00      6.113500    469.000000  \n",
       "50%       23.804000            2009-08-03 00:00:00      6.662000    846.000000  \n",
       "75%       35.751500            2016-08-02 12:00:00      7.205000   1966.000000  \n",
       "max     1766.305000            2023-11-23 00:00:00      8.708000  34794.000000  \n",
       "std       49.108903                            NaN      0.794924   3059.560533  "
      ]
     },
     "execution_count": 21,
     "metadata": {},
     "output_type": "execute_result"
    }
   ],
   "source": [
    "df.describe(include='all')   "
   ]
  },
  {
   "cell_type": "code",
   "execution_count": 22,
   "metadata": {},
   "outputs": [
    {
     "data": {
      "text/plain": [
       "Index(['title', 'overview', 'popularity', 'release_date', 'vote_average',\n",
       "       'vote_count'],\n",
       "      dtype='object')"
      ]
     },
     "execution_count": 22,
     "metadata": {},
     "output_type": "execute_result"
    }
   ],
   "source": [
    "df.columns"
   ]
  },
  {
   "cell_type": "code",
   "execution_count": 23,
   "metadata": {},
   "outputs": [],
   "source": [
    "## the highest average voting\n",
    "# df.groupby('title')['vote_average'].mean()"
   ]
  },
  {
   "cell_type": "code",
   "execution_count": 24,
   "metadata": {},
   "outputs": [
    {
     "data": {
      "text/plain": [
       "title\n",
       "Oppenheimer                                      1766.305\n",
       "The Creator                                      1622.502\n",
       "Five Nights at Freddy's                          1252.998\n",
       "Expend4bles                                       873.341\n",
       "Mission: Impossible - Dead Reckoning Part One     762.172\n",
       "                                                   ...   \n",
       "G.B.F.                                              0.680\n",
       "Tracks                                              0.600\n",
       "Hotarubi no Mori e                                  0.600\n",
       "Serial Teachers                                     0.600\n",
       "Grave of the Fireflies                              0.600\n",
       "Name: popularity, Length: 8514, dtype: float64"
      ]
     },
     "execution_count": 24,
     "metadata": {},
     "output_type": "execute_result"
    }
   ],
   "source": [
    "data1=df.groupby('title')['popularity'].mean().sort_values(ascending=False)\n",
    "data1\n"
   ]
  },
  {
   "cell_type": "code",
   "execution_count": 25,
   "metadata": {},
   "outputs": [
    {
     "data": {
      "image/png": "[encoded data removed]",
      "text/plain": [
       "<Figure size 1500x500 with 1 Axes>"
      ]
     },
     "metadata": {},
     "output_type": "display_data"
    }
   ],
   "source": [
    "# sns.barplot(x='title',y='popularity',data=df).head()\n",
    "data1.head().plot(kind='bar',x='title',y='popularity',color='r',title='TOP FIVE MOVIES',figsize=(15,5))\n",
    "plt.xlabel('Movie Title')\n",
    "plt.ylabel('Popularity')\n",
    "plt.show()\n"
   ]
  },
  {
   "cell_type": "code",
   "execution_count": 26,
   "metadata": {},
   "outputs": [
    {
     "data": {
      "text/plain": [
       "title\n",
       "Inception                                       34794.0\n",
       "Interstellar                                    32975.0\n",
       "The Dark Knight                                 30958.0\n",
       "Avatar                                          30044.0\n",
       "Deadpool                                        29102.0\n",
       "                                                 ...   \n",
       "Ebola Syndrome                                    117.0\n",
       "The Bravados                                      105.0\n",
       "Guinea Pig Part 2: Flower of Flesh and Blood      101.0\n",
       "Matango                                            88.0\n",
       "Srimulat: Hidup Memang Komedi                       1.0\n",
       "Name: vote_count, Length: 8514, dtype: float64"
      ]
     },
     "execution_count": 26,
     "metadata": {},
     "output_type": "execute_result"
    }
   ],
   "source": [
    "data2=df.groupby('title')['vote_count'].mean().sort_values(ascending=False)\n",
    "data2"
   ]
  },
  {
   "cell_type": "code",
   "execution_count": 27,
   "metadata": {},
   "outputs": [
    {
     "data": {
      "image/png": "[encoded data removed]",
      "text/plain": [
       "<Figure size 1500x500 with 1 Axes>"
      ]
     },
     "metadata": {},
     "output_type": "display_data"
    }
   ],
   "source": [
    "data2.head().plot(kind='bar',x='title',y='vote_count',color='r',title='TOP FIVE MOVIES',figsize=(15,5))\n",
    "plt.xlabel('Movie Title')\n",
    "plt.ylabel('vote_count')\n",
    "plt.show()\n"
   ]
  },
  {
   "cell_type": "code",
   "execution_count": null,
   "metadata": {},
   "outputs": [],
   "source": []
  }
 ],
 "metadata": {
  "kernelspec": {
   "display_name": "base",
   "language": "python",
   "name": "python3"
  },
  "language_info": {
   "codemirror_mode": {
    "name": "ipython",
    "version": 3
   },
   "file_extension": ".py",
   "mimetype": "text/x-python",
   "name": "python",
   "nbconvert_exporter": "python",
   "pygments_lexer": "ipython3",
   "version": "3.11.5"
  }
 },
 "nbformat": 4,
 "nbformat_minor": 2
}
