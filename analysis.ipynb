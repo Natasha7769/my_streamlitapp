{
 "cells": [
  {
   "cell_type": "code",
   "execution_count": 1,
   "metadata": {},
   "outputs": [],
   "source": [
    "import pandas as pd\n",
    "import numpy as np\n",
    "import plotly.express as px\n",
    "import matplotlib.pyplot as plt\n",
    "import seaborn as sns"
   ]
  },
  {
   "cell_type": "code",
   "execution_count": 6,
   "metadata": {},
   "outputs": [
    {
     "data": {
      "text/html": [
       "<div>\n",
       "<style scoped>\n",
       "    .dataframe tbody tr th:only-of-type {\n",
       "        vertical-align: middle;\n",
       "    }\n",
       "\n",
       "    .dataframe tbody tr th {\n",
       "        vertical-align: top;\n",
       "    }\n",
       "\n",
       "    .dataframe thead th {\n",
       "        text-align: right;\n",
       "    }\n",
       "</style>\n",
       "<table border=\"1\" class=\"dataframe\">\n",
       "  <thead>\n",
       "    <tr style=\"text-align: right;\">\n",
       "      <th></th>\n",
       "      <th>id</th>\n",
       "      <th>title</th>\n",
       "      <th>overview</th>\n",
       "      <th>popularity</th>\n",
       "      <th>release_date</th>\n",
       "      <th>vote_average</th>\n",
       "      <th>vote_count</th>\n",
       "    </tr>\n",
       "  </thead>\n",
       "  <tbody>\n",
       "    <tr>\n",
       "      <th>0</th>\n",
       "      <td>168705</td>\n",
       "      <td>BloodRayne</td>\n",
       "      <td>In 18th-century Romania, after spending much o...</td>\n",
       "      <td>17.499</td>\n",
       "      <td>2005-10-22</td>\n",
       "      <td>4.105</td>\n",
       "      <td>501</td>\n",
       "    </tr>\n",
       "    <tr>\n",
       "      <th>1</th>\n",
       "      <td>19766</td>\n",
       "      <td>Inspector Gadget 2</td>\n",
       "      <td>After capturing Claw, all the criminals have g...</td>\n",
       "      <td>20.772</td>\n",
       "      <td>2003-03-11</td>\n",
       "      <td>4.100</td>\n",
       "      <td>342</td>\n",
       "    </tr>\n",
       "    <tr>\n",
       "      <th>2</th>\n",
       "      <td>248705</td>\n",
       "      <td>The Visitors: Bastille Day</td>\n",
       "      <td>Stuck in the corridors of time, Godefroy de Mo...</td>\n",
       "      <td>18.828</td>\n",
       "      <td>2016-03-23</td>\n",
       "      <td>4.090</td>\n",
       "      <td>636</td>\n",
       "    </tr>\n",
       "    <tr>\n",
       "      <th>3</th>\n",
       "      <td>17711</td>\n",
       "      <td>The Adventures of Rocky &amp; Bullwinkle</td>\n",
       "      <td>Rocky and Bullwinkle have been living off the ...</td>\n",
       "      <td>16.436</td>\n",
       "      <td>2000-06-30</td>\n",
       "      <td>4.075</td>\n",
       "      <td>335</td>\n",
       "    </tr>\n",
       "    <tr>\n",
       "      <th>4</th>\n",
       "      <td>580</td>\n",
       "      <td>Jaws: The Revenge</td>\n",
       "      <td>After another deadly shark attack, Ellen Brody...</td>\n",
       "      <td>30.996</td>\n",
       "      <td>1987-07-17</td>\n",
       "      <td>4.064</td>\n",
       "      <td>931</td>\n",
       "    </tr>\n",
       "  </tbody>\n",
       "</table>\n",
       "</div>"
      ],
      "text/plain": [
       "       id                                 title  \\\n",
       "0  168705                            BloodRayne   \n",
       "1   19766                    Inspector Gadget 2   \n",
       "2  248705            The Visitors: Bastille Day   \n",
       "3   17711  The Adventures of Rocky & Bullwinkle   \n",
       "4     580                     Jaws: The Revenge   \n",
       "\n",
       "                                            overview  popularity release_date  \\\n",
       "0  In 18th-century Romania, after spending much o...      17.499   2005-10-22   \n",
       "1  After capturing Claw, all the criminals have g...      20.772   2003-03-11   \n",
       "2  Stuck in the corridors of time, Godefroy de Mo...      18.828   2016-03-23   \n",
       "3  Rocky and Bullwinkle have been living off the ...      16.436   2000-06-30   \n",
       "4  After another deadly shark attack, Ellen Brody...      30.996   1987-07-17   \n",
       "\n",
       "   vote_average  vote_count  \n",
       "0         4.105         501  \n",
       "1         4.100         342  \n",
       "2         4.090         636  \n",
       "3         4.075         335  \n",
       "4         4.064         931  "
      ]
     },
     "execution_count": 6,
     "metadata": {},
     "output_type": "execute_result"
    }
   ],
   "source": [
    "df = pd.read_csv(r\"C:\\Users\\Natasha\\Downloads\\Top_rated_movies1.csv\\Top_rated_movies1.csv\",parse_dates=['release_date'])\n",
    "df\n",
    "df.head()\n",
    " "
   ]
  },
  {
   "cell_type": "code",
   "execution_count": 7,
   "metadata": {},
   "outputs": [
    {
     "name": "stdout",
     "output_type": "stream",
     "text": [
      "<class 'pandas.core.frame.DataFrame'>\n",
      "RangeIndex: 8831 entries, 0 to 8830\n",
      "Data columns (total 7 columns):\n",
      " #   Column        Non-Null Count  Dtype         \n",
      "---  ------        --------------  -----         \n",
      " 0   id            8831 non-null   int64         \n",
      " 1   title         8831 non-null   object        \n",
      " 2   overview      8830 non-null   object        \n",
      " 3   popularity    8831 non-null   float64       \n",
      " 4   release_date  8831 non-null   datetime64[ns]\n",
      " 5   vote_average  8831 non-null   float64       \n",
      " 6   vote_count    8831 non-null   int64         \n",
      "dtypes: datetime64[ns](1), float64(2), int64(2), object(2)\n",
      "memory usage: 483.1+ KB\n"
     ]
    }
   ],
   "source": [
    "df.info()"
   ]
  },
  {
   "cell_type": "code",
   "execution_count": 4,
   "metadata": {},
   "outputs": [
    {
     "data": {
      "text/html": [
       "<div>\n",
       "<style scoped>\n",
       "    .dataframe tbody tr th:only-of-type {\n",
       "        vertical-align: middle;\n",
       "    }\n",
       "\n",
       "    .dataframe tbody tr th {\n",
       "        vertical-align: top;\n",
       "    }\n",
       "\n",
       "    .dataframe thead th {\n",
       "        text-align: right;\n",
       "    }\n",
       "</style>\n",
       "<table border=\"1\" class=\"dataframe\">\n",
       "  <thead>\n",
       "    <tr style=\"text-align: right;\">\n",
       "      <th></th>\n",
       "      <th>id</th>\n",
       "      <th>popularity</th>\n",
       "      <th>vote_average</th>\n",
       "      <th>vote_count</th>\n",
       "    </tr>\n",
       "  </thead>\n",
       "  <tbody>\n",
       "    <tr>\n",
       "      <th>count</th>\n",
       "      <td>8.831000e+03</td>\n",
       "      <td>8831.000000</td>\n",
       "      <td>8831.000000</td>\n",
       "      <td>8831.000000</td>\n",
       "    </tr>\n",
       "    <tr>\n",
       "      <th>mean</th>\n",
       "      <td>1.775555e+05</td>\n",
       "      <td>33.136177</td>\n",
       "      <td>6.639059</td>\n",
       "      <td>1969.126486</td>\n",
       "    </tr>\n",
       "    <tr>\n",
       "      <th>std</th>\n",
       "      <td>2.352400e+05</td>\n",
       "      <td>49.108903</td>\n",
       "      <td>0.794924</td>\n",
       "      <td>3059.560533</td>\n",
       "    </tr>\n",
       "    <tr>\n",
       "      <th>min</th>\n",
       "      <td>5.000000e+00</td>\n",
       "      <td>0.600000</td>\n",
       "      <td>2.106000</td>\n",
       "      <td>1.000000</td>\n",
       "    </tr>\n",
       "    <tr>\n",
       "      <th>25%</th>\n",
       "      <td>9.927500e+03</td>\n",
       "      <td>16.729000</td>\n",
       "      <td>6.113500</td>\n",
       "      <td>469.000000</td>\n",
       "    </tr>\n",
       "    <tr>\n",
       "      <th>50%</th>\n",
       "      <td>3.387500e+04</td>\n",
       "      <td>23.804000</td>\n",
       "      <td>6.662000</td>\n",
       "      <td>846.000000</td>\n",
       "    </tr>\n",
       "    <tr>\n",
       "      <th>75%</th>\n",
       "      <td>3.345215e+05</td>\n",
       "      <td>35.751500</td>\n",
       "      <td>7.205000</td>\n",
       "      <td>1966.000000</td>\n",
       "    </tr>\n",
       "    <tr>\n",
       "      <th>max</th>\n",
       "      <td>1.151534e+06</td>\n",
       "      <td>1766.305000</td>\n",
       "      <td>8.708000</td>\n",
       "      <td>34794.000000</td>\n",
       "    </tr>\n",
       "  </tbody>\n",
       "</table>\n",
       "</div>"
      ],
      "text/plain": [
       "                 id   popularity  vote_average    vote_count\n",
       "count  8.831000e+03  8831.000000   8831.000000   8831.000000\n",
       "mean   1.775555e+05    33.136177      6.639059   1969.126486\n",
       "std    2.352400e+05    49.108903      0.794924   3059.560533\n",
       "min    5.000000e+00     0.600000      2.106000      1.000000\n",
       "25%    9.927500e+03    16.729000      6.113500    469.000000\n",
       "50%    3.387500e+04    23.804000      6.662000    846.000000\n",
       "75%    3.345215e+05    35.751500      7.205000   1966.000000\n",
       "max    1.151534e+06  1766.305000      8.708000  34794.000000"
      ]
     },
     "execution_count": 4,
     "metadata": {},
     "output_type": "execute_result"
    }
   ],
   "source": [
    "df.describe()"
   ]
  },
  {
   "cell_type": "code",
   "execution_count": 8,
   "metadata": {},
   "outputs": [
    {
     "data": {
      "text/plain": [
       "id              8811\n",
       "title           8514\n",
       "overview        8807\n",
       "popularity      7971\n",
       "release_date    5635\n",
       "vote_average    2922\n",
       "vote_count      3339\n",
       "dtype: int64"
      ]
     },
     "execution_count": 8,
     "metadata": {},
     "output_type": "execute_result"
    }
   ],
   "source": [
    "df.nunique()"
   ]
  },
  {
   "cell_type": "code",
   "execution_count": 9,
   "metadata": {},
   "outputs": [],
   "source": [
    "df.drop(columns='id',inplace=True)"
   ]
  },
  {
   "cell_type": "code",
   "execution_count": 10,
   "metadata": {},
   "outputs": [
    {
     "data": {
      "text/plain": [
       "8514"
      ]
     },
     "execution_count": 10,
     "metadata": {},
     "output_type": "execute_result"
    }
   ],
   "source": [
    "df.title.nunique()"
   ]
  },
  {
   "cell_type": "code",
   "execution_count": 12,
   "metadata": {},
   "outputs": [
    {
     "data": {
      "text/plain": [
       "title\n",
       "Return                        5\n",
       "Pinocchio                     4\n",
       "Beauty and the Beast          4\n",
       "Taxi                          4\n",
       "King Kong                     3\n",
       "                             ..\n",
       "The Andromeda Strain          1\n",
       "Love Don't Co$t a Thing       1\n",
       "Radio Days                    1\n",
       "The Report                    1\n",
       "Birdemic: Shock and Terror    1\n",
       "Name: count, Length: 8514, dtype: int64"
      ]
     },
     "execution_count": 12,
     "metadata": {},
     "output_type": "execute_result"
    }
   ],
   "source": [
    "df.title.value_counts()"
   ]
  },
  {
   "cell_type": "code",
   "execution_count": null,
   "metadata": {},
   "outputs": [],
   "source": []
  }
 ],
 "metadata": {
  "kernelspec": {
   "display_name": "base",
   "language": "python",
   "name": "python3"
  },
  "language_info": {
   "codemirror_mode": {
    "name": "ipython",
    "version": 3
   },
   "file_extension": ".py",
   "mimetype": "text/x-python",
   "name": "python",
   "nbconvert_exporter": "python",
   "pygments_lexer": "ipython3",
   "version": "3.11.5"
  }
 },
 "nbformat": 4,
 "nbformat_minor": 2
}
